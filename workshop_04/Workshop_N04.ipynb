{
  "nbformat": 4,
  "nbformat_minor": 0,
  "metadata": {
    "colab": {
      "name": "Workshop N04.ipynb",
      "provenance": [],
      "authorship_tag": "ABX9TyP7K0kisMAxA47yoATmsaBk",
      "include_colab_link": true
    },
    "kernelspec": {
      "name": "python3",
      "display_name": "Python 3"
    }
  },
  "cells": [
    {
      "cell_type": "markdown",
      "metadata": {
        "id": "view-in-github",
        "colab_type": "text"
      },
      "source": [
        "<a href=\"https://colab.research.google.com/github/emmt1998/ML-para-Negocios/blob/main/workshop_04/Workshop_N04.ipynb\" target=\"_parent\"><img src=\"https://colab.research.google.com/assets/colab-badge.svg\" alt=\"Open In Colab\"/></a>"
      ]
    },
    {
      "cell_type": "markdown",
      "metadata": {
        "id": "qWO894XtENJw"
      },
      "source": [
        "# Workshop N04: Recomendador parte 2\r\n",
        "Dictado por Sergio Valenzuela / sergio@tecnopolis.ai / serginho61@gmail.com\r\n",
        "\r\n",
        "Redactado por Efrain Magaña / emmt1998@gmail.com\r\n",
        "\r\n",
        "Puedes copiar este Jupyter Notebook a tu drive llendo a Archivo-> Guardar una Copia en Drive\r\n"
      ]
    },
    {
      "cell_type": "markdown",
      "metadata": {
        "id": "cwq0noc5JvSo"
      },
      "source": [
        "# Carga de Dataset\r\n",
        "En este workshop usaremos los datos en `ml-latest-small.zip` de https://grouplens.org/datasets/movielens/latest/ el cual corresponde a 100mil ratings y 3600 etiquetas aplicadas a 9000 peliculas por 600 usuarios.\r\n",
        "\r\n",
        "En especifico usaremos los archivos `movies.csv` y `ratings.csv` que estan dentro del zip.\r\n",
        "\r\n",
        "Hay dos metodos para cargar los archivos al ambiente de Google Collab, uno es manual, llendo al icono de carpeta en el costado izquierdo y luego presionar en el icono de un archivo con una flecha hacia arriba, tambien se pueden arrastrar los archivos. \r\n",
        "\r\n",
        "El otro metodo es ejecutar el siguiente codigo, este copiara el repositorio del curso en el ambiente y por ende copiara los archivos en la carpeta `ML-para-Negocios/workshop_02/ml-latest-small/` en donde ya estan descomprimidos `movies.csv` y `ratings.csv`."
      ]
    },
    {
      "cell_type": "code",
      "metadata": {
        "colab": {
          "base_uri": "https://localhost:8080/"
        },
        "id": "QLWliYQfMguf",
        "outputId": "6f4594c0-da39-4c68-e84b-e6067cbc9fc7"
      },
      "source": [
        "%cd /content/\r\n",
        "!rm -r /content/ML-para-Negocios #remueve el repositorio si es que ya se habia cargado\r\n",
        "!git clone https://github.com/emmt1998/ML-para-Negocios.git #copia el repositorio"
      ],
      "execution_count": 1,
      "outputs": [
        {
          "output_type": "stream",
          "text": [
            "/content\n",
            "rm: cannot remove '/content/ML-para-Negocios': No such file or directory\n",
            "Cloning into 'ML-para-Negocios'...\n",
            "remote: Enumerating objects: 136, done.\u001b[K\n",
            "remote: Counting objects: 100% (136/136), done.\u001b[K\n",
            "remote: Compressing objects: 100% (131/131), done.\u001b[K\n",
            "remote: Total 136 (delta 54), reused 0 (delta 0), pack-reused 0\u001b[K\n",
            "Receiving objects: 100% (136/136), 8.48 MiB | 7.03 MiB/s, done.\n",
            "Resolving deltas: 100% (54/54), done.\n"
          ],
          "name": "stdout"
        }
      ]
    },
    {
      "cell_type": "markdown",
      "metadata": {
        "id": "5hADN1ymN10M"
      },
      "source": [
        "Si revisas en el icono de la carpeta encontraras que se cargo el repositorio al ambiente."
      ]
    },
    {
      "cell_type": "markdown",
      "metadata": {
        "id": "mZDnCjcVIIfL"
      },
      "source": [
        "# Libreria Pandas\r\n",
        "En esta ocacion usaremos la libreria pandas para trabajar con los archivos. \r\n",
        "\r\n",
        "En la siguiente pagina encontraras mas informacion sobre la libreria:\r\n",
        "\r\n",
        "* https://pandas.pydata.org/docs/getting_started/index.html\r\n",
        "\r\n",
        "Ejecutmos la siguiente celda para importar la libreria al ambiente.\r\n"
      ]
    },
    {
      "cell_type": "code",
      "metadata": {
        "id": "jVOnHHdYV6fE"
      },
      "source": [
        "import pandas as pd #notamos que le asignamos el nombre de pd"
      ],
      "execution_count": 2,
      "outputs": []
    },
    {
      "cell_type": "markdown",
      "metadata": {
        "id": "rXWasdg6YpEW"
      },
      "source": [
        "# Carga de datos\r\n",
        "Primero cargamos los datos a variables para trabajar con ellos."
      ]
    },
    {
      "cell_type": "code",
      "metadata": {
        "id": "PInHDDRRWYd-"
      },
      "source": [
        "# Primero seteamos las direcciones en donde estan los archivos a usar\r\n",
        "dir_archivos = \"/content/ML-para-Negocios/workshop_02/ml-latest-small/\"\r\n",
        "dir_movies = dir_archivos +\"movies.csv\"\r\n",
        "dir_ratings = dir_archivos + \"ratings.csv\"\r\n",
        "\r\n",
        "# usamos el metodo de pandas para leer los csv\r\n",
        "# primero con las peliculas\r\n",
        "peliculas = pd.read_csv(dir_movies)\r\n",
        "# aprovechamos de cambiarle los nobmres a las columnas\r\n",
        "peliculas.columns = [\"peliculaId\", \"titulo\", \"generos\"]\r\n",
        "# y de setear la columna de peliculasId como indice\r\n",
        "peliculas = peliculas.set_index(\"peliculaId\")\r\n",
        "\r\n",
        "# ahora con los ratings\r\n",
        "notas = pd.read_csv(dir_ratings)\r\n",
        "# aprovechamos de cambiarle los nobmres a las columnas\r\n",
        "notas.columns = [\"usuarioId\", \"peliculaId\", \"nota\", \"momento\"]"
      ],
      "execution_count": 3,
      "outputs": []
    },
    {
      "cell_type": "markdown",
      "metadata": {
        "id": "Y4Hjf5Ap36Hh"
      },
      "source": [
        "Podemos invocar a la variable para que se muestren los datos.\r\n",
        "\r\n",
        "Primero invocamos el dataframe `peliculas`, en donde se pueden ver las columnas \"peliculaId\", \"titulo\" y \"generos\". Siendo la columna de \"peliculaId\" el indice de los datos."
      ]
    },
    {
      "cell_type": "code",
      "metadata": {
        "colab": {
          "base_uri": "https://localhost:8080/",
          "height": 455
        },
        "id": "fTlFmofAbPFC",
        "outputId": "576bbcfa-9e8a-4469-d26b-476d292cd388"
      },
      "source": [
        "peliculas   #tambien puedes usar peliculas.head(n) con n el numero de datos que quieres ver"
      ],
      "execution_count": 4,
      "outputs": [
        {
          "output_type": "execute_result",
          "data": {
            "text/html": [
              "<div>\n",
              "<style scoped>\n",
              "    .dataframe tbody tr th:only-of-type {\n",
              "        vertical-align: middle;\n",
              "    }\n",
              "\n",
              "    .dataframe tbody tr th {\n",
              "        vertical-align: top;\n",
              "    }\n",
              "\n",
              "    .dataframe thead th {\n",
              "        text-align: right;\n",
              "    }\n",
              "</style>\n",
              "<table border=\"1\" class=\"dataframe\">\n",
              "  <thead>\n",
              "    <tr style=\"text-align: right;\">\n",
              "      <th></th>\n",
              "      <th>titulo</th>\n",
              "      <th>generos</th>\n",
              "    </tr>\n",
              "    <tr>\n",
              "      <th>peliculaId</th>\n",
              "      <th></th>\n",
              "      <th></th>\n",
              "    </tr>\n",
              "  </thead>\n",
              "  <tbody>\n",
              "    <tr>\n",
              "      <th>1</th>\n",
              "      <td>Toy Story (1995)</td>\n",
              "      <td>Adventure|Animation|Children|Comedy|Fantasy</td>\n",
              "    </tr>\n",
              "    <tr>\n",
              "      <th>2</th>\n",
              "      <td>Jumanji (1995)</td>\n",
              "      <td>Adventure|Children|Fantasy</td>\n",
              "    </tr>\n",
              "    <tr>\n",
              "      <th>3</th>\n",
              "      <td>Grumpier Old Men (1995)</td>\n",
              "      <td>Comedy|Romance</td>\n",
              "    </tr>\n",
              "    <tr>\n",
              "      <th>4</th>\n",
              "      <td>Waiting to Exhale (1995)</td>\n",
              "      <td>Comedy|Drama|Romance</td>\n",
              "    </tr>\n",
              "    <tr>\n",
              "      <th>5</th>\n",
              "      <td>Father of the Bride Part II (1995)</td>\n",
              "      <td>Comedy</td>\n",
              "    </tr>\n",
              "    <tr>\n",
              "      <th>...</th>\n",
              "      <td>...</td>\n",
              "      <td>...</td>\n",
              "    </tr>\n",
              "    <tr>\n",
              "      <th>193581</th>\n",
              "      <td>Black Butler: Book of the Atlantic (2017)</td>\n",
              "      <td>Action|Animation|Comedy|Fantasy</td>\n",
              "    </tr>\n",
              "    <tr>\n",
              "      <th>193583</th>\n",
              "      <td>No Game No Life: Zero (2017)</td>\n",
              "      <td>Animation|Comedy|Fantasy</td>\n",
              "    </tr>\n",
              "    <tr>\n",
              "      <th>193585</th>\n",
              "      <td>Flint (2017)</td>\n",
              "      <td>Drama</td>\n",
              "    </tr>\n",
              "    <tr>\n",
              "      <th>193587</th>\n",
              "      <td>Bungo Stray Dogs: Dead Apple (2018)</td>\n",
              "      <td>Action|Animation</td>\n",
              "    </tr>\n",
              "    <tr>\n",
              "      <th>193609</th>\n",
              "      <td>Andrew Dice Clay: Dice Rules (1991)</td>\n",
              "      <td>Comedy</td>\n",
              "    </tr>\n",
              "  </tbody>\n",
              "</table>\n",
              "<p>9742 rows × 2 columns</p>\n",
              "</div>"
            ],
            "text/plain": [
              "                                               titulo                                      generos\n",
              "peliculaId                                                                                        \n",
              "1                                    Toy Story (1995)  Adventure|Animation|Children|Comedy|Fantasy\n",
              "2                                      Jumanji (1995)                   Adventure|Children|Fantasy\n",
              "3                             Grumpier Old Men (1995)                               Comedy|Romance\n",
              "4                            Waiting to Exhale (1995)                         Comedy|Drama|Romance\n",
              "5                  Father of the Bride Part II (1995)                                       Comedy\n",
              "...                                               ...                                          ...\n",
              "193581      Black Butler: Book of the Atlantic (2017)              Action|Animation|Comedy|Fantasy\n",
              "193583                   No Game No Life: Zero (2017)                     Animation|Comedy|Fantasy\n",
              "193585                                   Flint (2017)                                        Drama\n",
              "193587            Bungo Stray Dogs: Dead Apple (2018)                             Action|Animation\n",
              "193609            Andrew Dice Clay: Dice Rules (1991)                                       Comedy\n",
              "\n",
              "[9742 rows x 2 columns]"
            ]
          },
          "metadata": {
            "tags": []
          },
          "execution_count": 4
        }
      ]
    },
    {
      "cell_type": "markdown",
      "metadata": {
        "id": "0Vtf7sfV4tl6"
      },
      "source": [
        "Invocamos al dataframe `notas`, notamos que el indice en este caso no corresponde a \"peliculaId\" y tampoco nos conviene que sea, ya que distintos usuarios le han puesto nota a una misma pelicula, por lo que si pusieramos como indice a las peliculas, tendriamos que se repiten varias veces."
      ]
    },
    {
      "cell_type": "code",
      "metadata": {
        "colab": {
          "base_uri": "https://localhost:8080/",
          "height": 424
        },
        "id": "XvaErTDXWxr6",
        "outputId": "50dc2331-89de-4035-e949-53728acd6909"
      },
      "source": [
        "notas"
      ],
      "execution_count": 5,
      "outputs": [
        {
          "output_type": "execute_result",
          "data": {
            "text/html": [
              "<div>\n",
              "<style scoped>\n",
              "    .dataframe tbody tr th:only-of-type {\n",
              "        vertical-align: middle;\n",
              "    }\n",
              "\n",
              "    .dataframe tbody tr th {\n",
              "        vertical-align: top;\n",
              "    }\n",
              "\n",
              "    .dataframe thead th {\n",
              "        text-align: right;\n",
              "    }\n",
              "</style>\n",
              "<table border=\"1\" class=\"dataframe\">\n",
              "  <thead>\n",
              "    <tr style=\"text-align: right;\">\n",
              "      <th></th>\n",
              "      <th>usuarioId</th>\n",
              "      <th>peliculaId</th>\n",
              "      <th>nota</th>\n",
              "      <th>momento</th>\n",
              "    </tr>\n",
              "  </thead>\n",
              "  <tbody>\n",
              "    <tr>\n",
              "      <th>0</th>\n",
              "      <td>1</td>\n",
              "      <td>1</td>\n",
              "      <td>4.0</td>\n",
              "      <td>964982703</td>\n",
              "    </tr>\n",
              "    <tr>\n",
              "      <th>1</th>\n",
              "      <td>1</td>\n",
              "      <td>3</td>\n",
              "      <td>4.0</td>\n",
              "      <td>964981247</td>\n",
              "    </tr>\n",
              "    <tr>\n",
              "      <th>2</th>\n",
              "      <td>1</td>\n",
              "      <td>6</td>\n",
              "      <td>4.0</td>\n",
              "      <td>964982224</td>\n",
              "    </tr>\n",
              "    <tr>\n",
              "      <th>3</th>\n",
              "      <td>1</td>\n",
              "      <td>47</td>\n",
              "      <td>5.0</td>\n",
              "      <td>964983815</td>\n",
              "    </tr>\n",
              "    <tr>\n",
              "      <th>4</th>\n",
              "      <td>1</td>\n",
              "      <td>50</td>\n",
              "      <td>5.0</td>\n",
              "      <td>964982931</td>\n",
              "    </tr>\n",
              "    <tr>\n",
              "      <th>...</th>\n",
              "      <td>...</td>\n",
              "      <td>...</td>\n",
              "      <td>...</td>\n",
              "      <td>...</td>\n",
              "    </tr>\n",
              "    <tr>\n",
              "      <th>100831</th>\n",
              "      <td>610</td>\n",
              "      <td>166534</td>\n",
              "      <td>4.0</td>\n",
              "      <td>1493848402</td>\n",
              "    </tr>\n",
              "    <tr>\n",
              "      <th>100832</th>\n",
              "      <td>610</td>\n",
              "      <td>168248</td>\n",
              "      <td>5.0</td>\n",
              "      <td>1493850091</td>\n",
              "    </tr>\n",
              "    <tr>\n",
              "      <th>100833</th>\n",
              "      <td>610</td>\n",
              "      <td>168250</td>\n",
              "      <td>5.0</td>\n",
              "      <td>1494273047</td>\n",
              "    </tr>\n",
              "    <tr>\n",
              "      <th>100834</th>\n",
              "      <td>610</td>\n",
              "      <td>168252</td>\n",
              "      <td>5.0</td>\n",
              "      <td>1493846352</td>\n",
              "    </tr>\n",
              "    <tr>\n",
              "      <th>100835</th>\n",
              "      <td>610</td>\n",
              "      <td>170875</td>\n",
              "      <td>3.0</td>\n",
              "      <td>1493846415</td>\n",
              "    </tr>\n",
              "  </tbody>\n",
              "</table>\n",
              "<p>100836 rows × 4 columns</p>\n",
              "</div>"
            ],
            "text/plain": [
              "        usuarioId  peliculaId  nota     momento\n",
              "0               1           1   4.0   964982703\n",
              "1               1           3   4.0   964981247\n",
              "2               1           6   4.0   964982224\n",
              "3               1          47   5.0   964983815\n",
              "4               1          50   5.0   964982931\n",
              "...           ...         ...   ...         ...\n",
              "100831        610      166534   4.0  1493848402\n",
              "100832        610      168248   5.0  1493850091\n",
              "100833        610      168250   5.0  1494273047\n",
              "100834        610      168252   5.0  1493846352\n",
              "100835        610      170875   3.0  1493846415\n",
              "\n",
              "[100836 rows x 4 columns]"
            ]
          },
          "metadata": {
            "tags": []
          },
          "execution_count": 5
        }
      ]
    },
    {
      "cell_type": "markdown",
      "metadata": {
        "id": "a9cyouBn6OoW"
      },
      "source": [
        "Tambien podemos pedir una descripcion de los datos."
      ]
    },
    {
      "cell_type": "code",
      "metadata": {
        "colab": {
          "base_uri": "https://localhost:8080/",
          "height": 300
        },
        "id": "DoKw3kONWzlT",
        "outputId": "33ce4b8d-37ed-4103-805e-276a5aca9371"
      },
      "source": [
        "notas.describe()"
      ],
      "execution_count": 6,
      "outputs": [
        {
          "output_type": "execute_result",
          "data": {
            "text/html": [
              "<div>\n",
              "<style scoped>\n",
              "    .dataframe tbody tr th:only-of-type {\n",
              "        vertical-align: middle;\n",
              "    }\n",
              "\n",
              "    .dataframe tbody tr th {\n",
              "        vertical-align: top;\n",
              "    }\n",
              "\n",
              "    .dataframe thead th {\n",
              "        text-align: right;\n",
              "    }\n",
              "</style>\n",
              "<table border=\"1\" class=\"dataframe\">\n",
              "  <thead>\n",
              "    <tr style=\"text-align: right;\">\n",
              "      <th></th>\n",
              "      <th>usuarioId</th>\n",
              "      <th>peliculaId</th>\n",
              "      <th>nota</th>\n",
              "      <th>momento</th>\n",
              "    </tr>\n",
              "  </thead>\n",
              "  <tbody>\n",
              "    <tr>\n",
              "      <th>count</th>\n",
              "      <td>100836.000000</td>\n",
              "      <td>100836.000000</td>\n",
              "      <td>100836.000000</td>\n",
              "      <td>1.008360e+05</td>\n",
              "    </tr>\n",
              "    <tr>\n",
              "      <th>mean</th>\n",
              "      <td>326.127564</td>\n",
              "      <td>19435.295718</td>\n",
              "      <td>3.501557</td>\n",
              "      <td>1.205946e+09</td>\n",
              "    </tr>\n",
              "    <tr>\n",
              "      <th>std</th>\n",
              "      <td>182.618491</td>\n",
              "      <td>35530.987199</td>\n",
              "      <td>1.042529</td>\n",
              "      <td>2.162610e+08</td>\n",
              "    </tr>\n",
              "    <tr>\n",
              "      <th>min</th>\n",
              "      <td>1.000000</td>\n",
              "      <td>1.000000</td>\n",
              "      <td>0.500000</td>\n",
              "      <td>8.281246e+08</td>\n",
              "    </tr>\n",
              "    <tr>\n",
              "      <th>25%</th>\n",
              "      <td>177.000000</td>\n",
              "      <td>1199.000000</td>\n",
              "      <td>3.000000</td>\n",
              "      <td>1.019124e+09</td>\n",
              "    </tr>\n",
              "    <tr>\n",
              "      <th>50%</th>\n",
              "      <td>325.000000</td>\n",
              "      <td>2991.000000</td>\n",
              "      <td>3.500000</td>\n",
              "      <td>1.186087e+09</td>\n",
              "    </tr>\n",
              "    <tr>\n",
              "      <th>75%</th>\n",
              "      <td>477.000000</td>\n",
              "      <td>8122.000000</td>\n",
              "      <td>4.000000</td>\n",
              "      <td>1.435994e+09</td>\n",
              "    </tr>\n",
              "    <tr>\n",
              "      <th>max</th>\n",
              "      <td>610.000000</td>\n",
              "      <td>193609.000000</td>\n",
              "      <td>5.000000</td>\n",
              "      <td>1.537799e+09</td>\n",
              "    </tr>\n",
              "  </tbody>\n",
              "</table>\n",
              "</div>"
            ],
            "text/plain": [
              "           usuarioId     peliculaId           nota       momento\n",
              "count  100836.000000  100836.000000  100836.000000  1.008360e+05\n",
              "mean      326.127564   19435.295718       3.501557  1.205946e+09\n",
              "std       182.618491   35530.987199       1.042529  2.162610e+08\n",
              "min         1.000000       1.000000       0.500000  8.281246e+08\n",
              "25%       177.000000    1199.000000       3.000000  1.019124e+09\n",
              "50%       325.000000    2991.000000       3.500000  1.186087e+09\n",
              "75%       477.000000    8122.000000       4.000000  1.435994e+09\n",
              "max       610.000000  193609.000000       5.000000  1.537799e+09"
            ]
          },
          "metadata": {
            "tags": []
          },
          "execution_count": 6
        }
      ]
    },
    {
      "cell_type": "markdown",
      "metadata": {
        "id": "txbwCtB46VfG"
      },
      "source": [
        "En esto ultimo podemos notar que la nota promedio es un 3.5 y que solo un 25% de los ratings corresponde a una nota menor a tres, podemos ignorar los resultados de \"usuarioId\" y \"peliculaId\" ya que son identificadores y a \"momento\" puesto que no lo usaremos."
      ]
    },
    {
      "cell_type": "markdown",
      "metadata": {
        "id": "9IkKFNoKZ8rf"
      },
      "source": [
        "# 1era Heurística de Recomendacion: Ranking de popularidad\r\n",
        "Ahora, ¿Como recomiendo peliculas?, si no conozco al usuario lo mas facil es recomendar lo que es mas popular, pero si se habran dado cuenta, los datos que estamos usando no cuentan con un total de visitas. Pero sabemos las peliculas a las cuales cada usuario le dejo una calificacion, con esto podemos contar cuantas calificaciones recibio cada pelicula. Y asumiremos que entre mas calificaciones mas popular es una pelicula. Esto ultimo puede ser completamente falso, pero es una asuncion que nos lleva a una solucion."
      ]
    },
    {
      "cell_type": "code",
      "metadata": {
        "colab": {
          "base_uri": "https://localhost:8080/",
          "height": 424
        },
        "id": "jN_R3PgPW2EE",
        "outputId": "77199c76-961a-4cbc-8c05-30c6a77084df"
      },
      "source": [
        "# contamos cuantas notas le dejaron a cada pelicula\r\n",
        "total_de_votos = notas[\"peliculaId\"].value_counts()\r\n",
        "total_de_votos = total_de_votos.to_frame(\"total_de_votos\")\r\n",
        "total_de_votos"
      ],
      "execution_count": 7,
      "outputs": [
        {
          "output_type": "execute_result",
          "data": {
            "text/html": [
              "<div>\n",
              "<style scoped>\n",
              "    .dataframe tbody tr th:only-of-type {\n",
              "        vertical-align: middle;\n",
              "    }\n",
              "\n",
              "    .dataframe tbody tr th {\n",
              "        vertical-align: top;\n",
              "    }\n",
              "\n",
              "    .dataframe thead th {\n",
              "        text-align: right;\n",
              "    }\n",
              "</style>\n",
              "<table border=\"1\" class=\"dataframe\">\n",
              "  <thead>\n",
              "    <tr style=\"text-align: right;\">\n",
              "      <th></th>\n",
              "      <th>total_de_votos</th>\n",
              "    </tr>\n",
              "  </thead>\n",
              "  <tbody>\n",
              "    <tr>\n",
              "      <th>356</th>\n",
              "      <td>329</td>\n",
              "    </tr>\n",
              "    <tr>\n",
              "      <th>318</th>\n",
              "      <td>317</td>\n",
              "    </tr>\n",
              "    <tr>\n",
              "      <th>296</th>\n",
              "      <td>307</td>\n",
              "    </tr>\n",
              "    <tr>\n",
              "      <th>593</th>\n",
              "      <td>279</td>\n",
              "    </tr>\n",
              "    <tr>\n",
              "      <th>2571</th>\n",
              "      <td>278</td>\n",
              "    </tr>\n",
              "    <tr>\n",
              "      <th>...</th>\n",
              "      <td>...</td>\n",
              "    </tr>\n",
              "    <tr>\n",
              "      <th>5986</th>\n",
              "      <td>1</td>\n",
              "    </tr>\n",
              "    <tr>\n",
              "      <th>100304</th>\n",
              "      <td>1</td>\n",
              "    </tr>\n",
              "    <tr>\n",
              "      <th>34800</th>\n",
              "      <td>1</td>\n",
              "    </tr>\n",
              "    <tr>\n",
              "      <th>83976</th>\n",
              "      <td>1</td>\n",
              "    </tr>\n",
              "    <tr>\n",
              "      <th>8196</th>\n",
              "      <td>1</td>\n",
              "    </tr>\n",
              "  </tbody>\n",
              "</table>\n",
              "<p>9724 rows × 1 columns</p>\n",
              "</div>"
            ],
            "text/plain": [
              "        total_de_votos\n",
              "356                329\n",
              "318                317\n",
              "296                307\n",
              "593                279\n",
              "2571               278\n",
              "...                ...\n",
              "5986                 1\n",
              "100304               1\n",
              "34800                1\n",
              "83976                1\n",
              "8196                 1\n",
              "\n",
              "[9724 rows x 1 columns]"
            ]
          },
          "metadata": {
            "tags": []
          },
          "execution_count": 7
        }
      ]
    },
    {
      "cell_type": "markdown",
      "metadata": {
        "id": "Bbd-Uqhw-__t"
      },
      "source": [
        "Notamos que los indices son los \"peliculaId\" y que la cantidad de filas(9724) es igual al del dataframe peliculas. Con esto podemos agregar el total de votos en una columna nueva en el dataframe peliculas. "
      ]
    },
    {
      "cell_type": "code",
      "metadata": {
        "colab": {
          "base_uri": "https://localhost:8080/",
          "height": 455
        },
        "id": "lYw4e2EMW6bW",
        "outputId": "9ea00d96-eeca-4493-a22e-d754436893df"
      },
      "source": [
        "# agregamos total_de_votos en una nueva columna en peliculas\r\n",
        "peliculas['total_de_votos'] = total_de_votos\r\n",
        "peliculas"
      ],
      "execution_count": 8,
      "outputs": [
        {
          "output_type": "execute_result",
          "data": {
            "text/html": [
              "<div>\n",
              "<style scoped>\n",
              "    .dataframe tbody tr th:only-of-type {\n",
              "        vertical-align: middle;\n",
              "    }\n",
              "\n",
              "    .dataframe tbody tr th {\n",
              "        vertical-align: top;\n",
              "    }\n",
              "\n",
              "    .dataframe thead th {\n",
              "        text-align: right;\n",
              "    }\n",
              "</style>\n",
              "<table border=\"1\" class=\"dataframe\">\n",
              "  <thead>\n",
              "    <tr style=\"text-align: right;\">\n",
              "      <th></th>\n",
              "      <th>titulo</th>\n",
              "      <th>generos</th>\n",
              "      <th>total_de_votos</th>\n",
              "    </tr>\n",
              "    <tr>\n",
              "      <th>peliculaId</th>\n",
              "      <th></th>\n",
              "      <th></th>\n",
              "      <th></th>\n",
              "    </tr>\n",
              "  </thead>\n",
              "  <tbody>\n",
              "    <tr>\n",
              "      <th>1</th>\n",
              "      <td>Toy Story (1995)</td>\n",
              "      <td>Adventure|Animation|Children|Comedy|Fantasy</td>\n",
              "      <td>215.0</td>\n",
              "    </tr>\n",
              "    <tr>\n",
              "      <th>2</th>\n",
              "      <td>Jumanji (1995)</td>\n",
              "      <td>Adventure|Children|Fantasy</td>\n",
              "      <td>110.0</td>\n",
              "    </tr>\n",
              "    <tr>\n",
              "      <th>3</th>\n",
              "      <td>Grumpier Old Men (1995)</td>\n",
              "      <td>Comedy|Romance</td>\n",
              "      <td>52.0</td>\n",
              "    </tr>\n",
              "    <tr>\n",
              "      <th>4</th>\n",
              "      <td>Waiting to Exhale (1995)</td>\n",
              "      <td>Comedy|Drama|Romance</td>\n",
              "      <td>7.0</td>\n",
              "    </tr>\n",
              "    <tr>\n",
              "      <th>5</th>\n",
              "      <td>Father of the Bride Part II (1995)</td>\n",
              "      <td>Comedy</td>\n",
              "      <td>49.0</td>\n",
              "    </tr>\n",
              "    <tr>\n",
              "      <th>...</th>\n",
              "      <td>...</td>\n",
              "      <td>...</td>\n",
              "      <td>...</td>\n",
              "    </tr>\n",
              "    <tr>\n",
              "      <th>193581</th>\n",
              "      <td>Black Butler: Book of the Atlantic (2017)</td>\n",
              "      <td>Action|Animation|Comedy|Fantasy</td>\n",
              "      <td>1.0</td>\n",
              "    </tr>\n",
              "    <tr>\n",
              "      <th>193583</th>\n",
              "      <td>No Game No Life: Zero (2017)</td>\n",
              "      <td>Animation|Comedy|Fantasy</td>\n",
              "      <td>1.0</td>\n",
              "    </tr>\n",
              "    <tr>\n",
              "      <th>193585</th>\n",
              "      <td>Flint (2017)</td>\n",
              "      <td>Drama</td>\n",
              "      <td>1.0</td>\n",
              "    </tr>\n",
              "    <tr>\n",
              "      <th>193587</th>\n",
              "      <td>Bungo Stray Dogs: Dead Apple (2018)</td>\n",
              "      <td>Action|Animation</td>\n",
              "      <td>1.0</td>\n",
              "    </tr>\n",
              "    <tr>\n",
              "      <th>193609</th>\n",
              "      <td>Andrew Dice Clay: Dice Rules (1991)</td>\n",
              "      <td>Comedy</td>\n",
              "      <td>1.0</td>\n",
              "    </tr>\n",
              "  </tbody>\n",
              "</table>\n",
              "<p>9742 rows × 3 columns</p>\n",
              "</div>"
            ],
            "text/plain": [
              "                                               titulo  ... total_de_votos\n",
              "peliculaId                                             ...               \n",
              "1                                    Toy Story (1995)  ...          215.0\n",
              "2                                      Jumanji (1995)  ...          110.0\n",
              "3                             Grumpier Old Men (1995)  ...           52.0\n",
              "4                            Waiting to Exhale (1995)  ...            7.0\n",
              "5                  Father of the Bride Part II (1995)  ...           49.0\n",
              "...                                               ...  ...            ...\n",
              "193581      Black Butler: Book of the Atlantic (2017)  ...            1.0\n",
              "193583                   No Game No Life: Zero (2017)  ...            1.0\n",
              "193585                                   Flint (2017)  ...            1.0\n",
              "193587            Bungo Stray Dogs: Dead Apple (2018)  ...            1.0\n",
              "193609            Andrew Dice Clay: Dice Rules (1991)  ...            1.0\n",
              "\n",
              "[9742 rows x 3 columns]"
            ]
          },
          "metadata": {
            "tags": []
          },
          "execution_count": 8
        }
      ]
    },
    {
      "cell_type": "markdown",
      "metadata": {
        "id": "ikTLK_bNSnJF"
      },
      "source": [
        "Con esto ya podemos ordenar de manera descendente, para tener el top 10 de peliculas mas vistas."
      ]
    },
    {
      "cell_type": "code",
      "metadata": {
        "id": "WEPmkF-7FoPL",
        "colab": {
          "base_uri": "https://localhost:8080/",
          "height": 394
        },
        "outputId": "c98ef592-9151-4168-fa81-7030fa707786"
      },
      "source": [
        "# pedimos que primero las ordene y luego que nos muestre las N primeras\r\n",
        "N = 10 # se puede cambiar\r\n",
        "peliculas.sort_values(\"total_de_votos\", ascending = False).head(N)"
      ],
      "execution_count": 9,
      "outputs": [
        {
          "output_type": "execute_result",
          "data": {
            "text/html": [
              "<div>\n",
              "<style scoped>\n",
              "    .dataframe tbody tr th:only-of-type {\n",
              "        vertical-align: middle;\n",
              "    }\n",
              "\n",
              "    .dataframe tbody tr th {\n",
              "        vertical-align: top;\n",
              "    }\n",
              "\n",
              "    .dataframe thead th {\n",
              "        text-align: right;\n",
              "    }\n",
              "</style>\n",
              "<table border=\"1\" class=\"dataframe\">\n",
              "  <thead>\n",
              "    <tr style=\"text-align: right;\">\n",
              "      <th></th>\n",
              "      <th>titulo</th>\n",
              "      <th>generos</th>\n",
              "      <th>total_de_votos</th>\n",
              "    </tr>\n",
              "    <tr>\n",
              "      <th>peliculaId</th>\n",
              "      <th></th>\n",
              "      <th></th>\n",
              "      <th></th>\n",
              "    </tr>\n",
              "  </thead>\n",
              "  <tbody>\n",
              "    <tr>\n",
              "      <th>356</th>\n",
              "      <td>Forrest Gump (1994)</td>\n",
              "      <td>Comedy|Drama|Romance|War</td>\n",
              "      <td>329.0</td>\n",
              "    </tr>\n",
              "    <tr>\n",
              "      <th>318</th>\n",
              "      <td>Shawshank Redemption, The (1994)</td>\n",
              "      <td>Crime|Drama</td>\n",
              "      <td>317.0</td>\n",
              "    </tr>\n",
              "    <tr>\n",
              "      <th>296</th>\n",
              "      <td>Pulp Fiction (1994)</td>\n",
              "      <td>Comedy|Crime|Drama|Thriller</td>\n",
              "      <td>307.0</td>\n",
              "    </tr>\n",
              "    <tr>\n",
              "      <th>593</th>\n",
              "      <td>Silence of the Lambs, The (1991)</td>\n",
              "      <td>Crime|Horror|Thriller</td>\n",
              "      <td>279.0</td>\n",
              "    </tr>\n",
              "    <tr>\n",
              "      <th>2571</th>\n",
              "      <td>Matrix, The (1999)</td>\n",
              "      <td>Action|Sci-Fi|Thriller</td>\n",
              "      <td>278.0</td>\n",
              "    </tr>\n",
              "    <tr>\n",
              "      <th>260</th>\n",
              "      <td>Star Wars: Episode IV - A New Hope (1977)</td>\n",
              "      <td>Action|Adventure|Sci-Fi</td>\n",
              "      <td>251.0</td>\n",
              "    </tr>\n",
              "    <tr>\n",
              "      <th>480</th>\n",
              "      <td>Jurassic Park (1993)</td>\n",
              "      <td>Action|Adventure|Sci-Fi|Thriller</td>\n",
              "      <td>238.0</td>\n",
              "    </tr>\n",
              "    <tr>\n",
              "      <th>110</th>\n",
              "      <td>Braveheart (1995)</td>\n",
              "      <td>Action|Drama|War</td>\n",
              "      <td>237.0</td>\n",
              "    </tr>\n",
              "    <tr>\n",
              "      <th>589</th>\n",
              "      <td>Terminator 2: Judgment Day (1991)</td>\n",
              "      <td>Action|Sci-Fi</td>\n",
              "      <td>224.0</td>\n",
              "    </tr>\n",
              "    <tr>\n",
              "      <th>527</th>\n",
              "      <td>Schindler's List (1993)</td>\n",
              "      <td>Drama|War</td>\n",
              "      <td>220.0</td>\n",
              "    </tr>\n",
              "  </tbody>\n",
              "</table>\n",
              "</div>"
            ],
            "text/plain": [
              "                                               titulo  ... total_de_votos\n",
              "peliculaId                                             ...               \n",
              "356                               Forrest Gump (1994)  ...          329.0\n",
              "318                  Shawshank Redemption, The (1994)  ...          317.0\n",
              "296                               Pulp Fiction (1994)  ...          307.0\n",
              "593                  Silence of the Lambs, The (1991)  ...          279.0\n",
              "2571                               Matrix, The (1999)  ...          278.0\n",
              "260         Star Wars: Episode IV - A New Hope (1977)  ...          251.0\n",
              "480                              Jurassic Park (1993)  ...          238.0\n",
              "110                                 Braveheart (1995)  ...          237.0\n",
              "589                 Terminator 2: Judgment Day (1991)  ...          224.0\n",
              "527                           Schindler's List (1993)  ...          220.0\n",
              "\n",
              "[10 rows x 3 columns]"
            ]
          },
          "metadata": {
            "tags": []
          },
          "execution_count": 9
        }
      ]
    },
    {
      "cell_type": "markdown",
      "metadata": {
        "id": "vs8CjBfkUPGI"
      },
      "source": [
        "Con esto ya tenemos una lista con peliculas a recomendar, mision cumplida!!"
      ]
    },
    {
      "cell_type": "markdown",
      "metadata": {
        "id": "nBnjrEnvUiTo"
      },
      "source": [
        "# 2era Heurística de Recomendacion: Ranking de mejor evaluadas\r\n",
        "Que una pelicula sea popular no nos dice si es buena o no, tal vez haya alguna que sea popular pero que sus calificaciones promedio sean bajas o al reves. \r\n",
        "\r\n",
        "Entonces en este caso vamos a promediar las calificaciones de cada pelicula y lo agregaremos al dataset peliculas, al igual que con la 1era heurística."
      ]
    },
    {
      "cell_type": "code",
      "metadata": {
        "colab": {
          "base_uri": "https://localhost:8080/",
          "height": 455
        },
        "id": "X8nmp6J_S13a",
        "outputId": "28ee250d-b236-413f-c1fd-f71c56adfe7b"
      },
      "source": [
        "# agrupamos los datos por peliculaId luego se promedian y \r\n",
        "# nos quedamos solo con la columna nota\r\n",
        "nota_promedio = notas.groupby(\"peliculaId\") #<- se agrupan los datos por peliculaId\r\n",
        "nota_promedio = nota_promedio.mean() #<- promediamos estos grupos\r\n",
        "nota_promedio = nota_promedio[\"nota\"] #<- nos quedamos solo con la columna nota\r\n",
        "nota_promedio = nota_promedio.to_frame(\"nota_promedio\")\r\n",
        "nota_promedio"
      ],
      "execution_count": 10,
      "outputs": [
        {
          "output_type": "execute_result",
          "data": {
            "text/html": [
              "<div>\n",
              "<style scoped>\n",
              "    .dataframe tbody tr th:only-of-type {\n",
              "        vertical-align: middle;\n",
              "    }\n",
              "\n",
              "    .dataframe tbody tr th {\n",
              "        vertical-align: top;\n",
              "    }\n",
              "\n",
              "    .dataframe thead th {\n",
              "        text-align: right;\n",
              "    }\n",
              "</style>\n",
              "<table border=\"1\" class=\"dataframe\">\n",
              "  <thead>\n",
              "    <tr style=\"text-align: right;\">\n",
              "      <th></th>\n",
              "      <th>nota_promedio</th>\n",
              "    </tr>\n",
              "    <tr>\n",
              "      <th>peliculaId</th>\n",
              "      <th></th>\n",
              "    </tr>\n",
              "  </thead>\n",
              "  <tbody>\n",
              "    <tr>\n",
              "      <th>1</th>\n",
              "      <td>3.920930</td>\n",
              "    </tr>\n",
              "    <tr>\n",
              "      <th>2</th>\n",
              "      <td>3.431818</td>\n",
              "    </tr>\n",
              "    <tr>\n",
              "      <th>3</th>\n",
              "      <td>3.259615</td>\n",
              "    </tr>\n",
              "    <tr>\n",
              "      <th>4</th>\n",
              "      <td>2.357143</td>\n",
              "    </tr>\n",
              "    <tr>\n",
              "      <th>5</th>\n",
              "      <td>3.071429</td>\n",
              "    </tr>\n",
              "    <tr>\n",
              "      <th>...</th>\n",
              "      <td>...</td>\n",
              "    </tr>\n",
              "    <tr>\n",
              "      <th>193581</th>\n",
              "      <td>4.000000</td>\n",
              "    </tr>\n",
              "    <tr>\n",
              "      <th>193583</th>\n",
              "      <td>3.500000</td>\n",
              "    </tr>\n",
              "    <tr>\n",
              "      <th>193585</th>\n",
              "      <td>3.500000</td>\n",
              "    </tr>\n",
              "    <tr>\n",
              "      <th>193587</th>\n",
              "      <td>3.500000</td>\n",
              "    </tr>\n",
              "    <tr>\n",
              "      <th>193609</th>\n",
              "      <td>4.000000</td>\n",
              "    </tr>\n",
              "  </tbody>\n",
              "</table>\n",
              "<p>9724 rows × 1 columns</p>\n",
              "</div>"
            ],
            "text/plain": [
              "            nota_promedio\n",
              "peliculaId               \n",
              "1                3.920930\n",
              "2                3.431818\n",
              "3                3.259615\n",
              "4                2.357143\n",
              "5                3.071429\n",
              "...                   ...\n",
              "193581           4.000000\n",
              "193583           3.500000\n",
              "193585           3.500000\n",
              "193587           3.500000\n",
              "193609           4.000000\n",
              "\n",
              "[9724 rows x 1 columns]"
            ]
          },
          "metadata": {
            "tags": []
          },
          "execution_count": 10
        }
      ]
    },
    {
      "cell_type": "markdown",
      "metadata": {
        "id": "8ANXeLaKvUot"
      },
      "source": [
        "Ahora tenemos las calificaciones promedios para cada pelicula y podemos agregarlo al dataset pelicula.\r\n",
        "\r\n",
        "Pero antes, notamos que la celda anterior podia haberse reducido a dos lineas, como se muestra a continuacion."
      ]
    },
    {
      "cell_type": "code",
      "metadata": {
        "colab": {
          "base_uri": "https://localhost:8080/",
          "height": 455
        },
        "id": "to-GVf5ktFxI",
        "outputId": "59a395d1-c530-4af8-e5ba-68e4e73eb01c"
      },
      "source": [
        "# es el mismo procedimiento solo que lo hacemos todo a la vez\r\n",
        "nota_promedio = notas.groupby(\"peliculaId\").mean()[\"nota\"].to_frame(\"nota_promedio\")\r\n",
        "nota_promedio"
      ],
      "execution_count": 11,
      "outputs": [
        {
          "output_type": "execute_result",
          "data": {
            "text/html": [
              "<div>\n",
              "<style scoped>\n",
              "    .dataframe tbody tr th:only-of-type {\n",
              "        vertical-align: middle;\n",
              "    }\n",
              "\n",
              "    .dataframe tbody tr th {\n",
              "        vertical-align: top;\n",
              "    }\n",
              "\n",
              "    .dataframe thead th {\n",
              "        text-align: right;\n",
              "    }\n",
              "</style>\n",
              "<table border=\"1\" class=\"dataframe\">\n",
              "  <thead>\n",
              "    <tr style=\"text-align: right;\">\n",
              "      <th></th>\n",
              "      <th>nota_promedio</th>\n",
              "    </tr>\n",
              "    <tr>\n",
              "      <th>peliculaId</th>\n",
              "      <th></th>\n",
              "    </tr>\n",
              "  </thead>\n",
              "  <tbody>\n",
              "    <tr>\n",
              "      <th>1</th>\n",
              "      <td>3.920930</td>\n",
              "    </tr>\n",
              "    <tr>\n",
              "      <th>2</th>\n",
              "      <td>3.431818</td>\n",
              "    </tr>\n",
              "    <tr>\n",
              "      <th>3</th>\n",
              "      <td>3.259615</td>\n",
              "    </tr>\n",
              "    <tr>\n",
              "      <th>4</th>\n",
              "      <td>2.357143</td>\n",
              "    </tr>\n",
              "    <tr>\n",
              "      <th>5</th>\n",
              "      <td>3.071429</td>\n",
              "    </tr>\n",
              "    <tr>\n",
              "      <th>...</th>\n",
              "      <td>...</td>\n",
              "    </tr>\n",
              "    <tr>\n",
              "      <th>193581</th>\n",
              "      <td>4.000000</td>\n",
              "    </tr>\n",
              "    <tr>\n",
              "      <th>193583</th>\n",
              "      <td>3.500000</td>\n",
              "    </tr>\n",
              "    <tr>\n",
              "      <th>193585</th>\n",
              "      <td>3.500000</td>\n",
              "    </tr>\n",
              "    <tr>\n",
              "      <th>193587</th>\n",
              "      <td>3.500000</td>\n",
              "    </tr>\n",
              "    <tr>\n",
              "      <th>193609</th>\n",
              "      <td>4.000000</td>\n",
              "    </tr>\n",
              "  </tbody>\n",
              "</table>\n",
              "<p>9724 rows × 1 columns</p>\n",
              "</div>"
            ],
            "text/plain": [
              "            nota_promedio\n",
              "peliculaId               \n",
              "1                3.920930\n",
              "2                3.431818\n",
              "3                3.259615\n",
              "4                2.357143\n",
              "5                3.071429\n",
              "...                   ...\n",
              "193581           4.000000\n",
              "193583           3.500000\n",
              "193585           3.500000\n",
              "193587           3.500000\n",
              "193609           4.000000\n",
              "\n",
              "[9724 rows x 1 columns]"
            ]
          },
          "metadata": {
            "tags": []
          },
          "execution_count": 11
        }
      ]
    },
    {
      "cell_type": "markdown",
      "metadata": {
        "id": "iSv2HndUwI2S"
      },
      "source": [
        "Ahora si, agregamos la nota promedio al dataset."
      ]
    },
    {
      "cell_type": "code",
      "metadata": {
        "colab": {
          "base_uri": "https://localhost:8080/",
          "height": 455
        },
        "id": "-lnkfiPFwZFk",
        "outputId": "7aafa4a1-367f-466b-d2a2-1bc33e62886d"
      },
      "source": [
        "# agregamos total_de_votos en una nueva columna en peliculas\r\n",
        "peliculas['nota_promedio'] = nota_promedio\r\n",
        "peliculas"
      ],
      "execution_count": 12,
      "outputs": [
        {
          "output_type": "execute_result",
          "data": {
            "text/html": [
              "<div>\n",
              "<style scoped>\n",
              "    .dataframe tbody tr th:only-of-type {\n",
              "        vertical-align: middle;\n",
              "    }\n",
              "\n",
              "    .dataframe tbody tr th {\n",
              "        vertical-align: top;\n",
              "    }\n",
              "\n",
              "    .dataframe thead th {\n",
              "        text-align: right;\n",
              "    }\n",
              "</style>\n",
              "<table border=\"1\" class=\"dataframe\">\n",
              "  <thead>\n",
              "    <tr style=\"text-align: right;\">\n",
              "      <th></th>\n",
              "      <th>titulo</th>\n",
              "      <th>generos</th>\n",
              "      <th>total_de_votos</th>\n",
              "      <th>nota_promedio</th>\n",
              "    </tr>\n",
              "    <tr>\n",
              "      <th>peliculaId</th>\n",
              "      <th></th>\n",
              "      <th></th>\n",
              "      <th></th>\n",
              "      <th></th>\n",
              "    </tr>\n",
              "  </thead>\n",
              "  <tbody>\n",
              "    <tr>\n",
              "      <th>1</th>\n",
              "      <td>Toy Story (1995)</td>\n",
              "      <td>Adventure|Animation|Children|Comedy|Fantasy</td>\n",
              "      <td>215.0</td>\n",
              "      <td>3.920930</td>\n",
              "    </tr>\n",
              "    <tr>\n",
              "      <th>2</th>\n",
              "      <td>Jumanji (1995)</td>\n",
              "      <td>Adventure|Children|Fantasy</td>\n",
              "      <td>110.0</td>\n",
              "      <td>3.431818</td>\n",
              "    </tr>\n",
              "    <tr>\n",
              "      <th>3</th>\n",
              "      <td>Grumpier Old Men (1995)</td>\n",
              "      <td>Comedy|Romance</td>\n",
              "      <td>52.0</td>\n",
              "      <td>3.259615</td>\n",
              "    </tr>\n",
              "    <tr>\n",
              "      <th>4</th>\n",
              "      <td>Waiting to Exhale (1995)</td>\n",
              "      <td>Comedy|Drama|Romance</td>\n",
              "      <td>7.0</td>\n",
              "      <td>2.357143</td>\n",
              "    </tr>\n",
              "    <tr>\n",
              "      <th>5</th>\n",
              "      <td>Father of the Bride Part II (1995)</td>\n",
              "      <td>Comedy</td>\n",
              "      <td>49.0</td>\n",
              "      <td>3.071429</td>\n",
              "    </tr>\n",
              "    <tr>\n",
              "      <th>...</th>\n",
              "      <td>...</td>\n",
              "      <td>...</td>\n",
              "      <td>...</td>\n",
              "      <td>...</td>\n",
              "    </tr>\n",
              "    <tr>\n",
              "      <th>193581</th>\n",
              "      <td>Black Butler: Book of the Atlantic (2017)</td>\n",
              "      <td>Action|Animation|Comedy|Fantasy</td>\n",
              "      <td>1.0</td>\n",
              "      <td>4.000000</td>\n",
              "    </tr>\n",
              "    <tr>\n",
              "      <th>193583</th>\n",
              "      <td>No Game No Life: Zero (2017)</td>\n",
              "      <td>Animation|Comedy|Fantasy</td>\n",
              "      <td>1.0</td>\n",
              "      <td>3.500000</td>\n",
              "    </tr>\n",
              "    <tr>\n",
              "      <th>193585</th>\n",
              "      <td>Flint (2017)</td>\n",
              "      <td>Drama</td>\n",
              "      <td>1.0</td>\n",
              "      <td>3.500000</td>\n",
              "    </tr>\n",
              "    <tr>\n",
              "      <th>193587</th>\n",
              "      <td>Bungo Stray Dogs: Dead Apple (2018)</td>\n",
              "      <td>Action|Animation</td>\n",
              "      <td>1.0</td>\n",
              "      <td>3.500000</td>\n",
              "    </tr>\n",
              "    <tr>\n",
              "      <th>193609</th>\n",
              "      <td>Andrew Dice Clay: Dice Rules (1991)</td>\n",
              "      <td>Comedy</td>\n",
              "      <td>1.0</td>\n",
              "      <td>4.000000</td>\n",
              "    </tr>\n",
              "  </tbody>\n",
              "</table>\n",
              "<p>9742 rows × 4 columns</p>\n",
              "</div>"
            ],
            "text/plain": [
              "                                               titulo  ... nota_promedio\n",
              "peliculaId                                             ...              \n",
              "1                                    Toy Story (1995)  ...      3.920930\n",
              "2                                      Jumanji (1995)  ...      3.431818\n",
              "3                             Grumpier Old Men (1995)  ...      3.259615\n",
              "4                            Waiting to Exhale (1995)  ...      2.357143\n",
              "5                  Father of the Bride Part II (1995)  ...      3.071429\n",
              "...                                               ...  ...           ...\n",
              "193581      Black Butler: Book of the Atlantic (2017)  ...      4.000000\n",
              "193583                   No Game No Life: Zero (2017)  ...      3.500000\n",
              "193585                                   Flint (2017)  ...      3.500000\n",
              "193587            Bungo Stray Dogs: Dead Apple (2018)  ...      3.500000\n",
              "193609            Andrew Dice Clay: Dice Rules (1991)  ...      4.000000\n",
              "\n",
              "[9742 rows x 4 columns]"
            ]
          },
          "metadata": {
            "tags": []
          },
          "execution_count": 12
        }
      ]
    },
    {
      "cell_type": "markdown",
      "metadata": {
        "id": "LzbIK1KNw9DO"
      },
      "source": [
        "Con esto ya podemos ordenar de manera descendente, para tener el top 10 de peliculas mejor evaluadas."
      ]
    },
    {
      "cell_type": "code",
      "metadata": {
        "colab": {
          "base_uri": "https://localhost:8080/",
          "height": 394
        },
        "id": "NlfLDkTPxMQY",
        "outputId": "8acaa446-7cd4-4b52-975f-9f10d737e01e"
      },
      "source": [
        "# pedimos que primero las ordene y luego que nos muestre las N primeras\r\n",
        "N = 10 # se puede cambiar\r\n",
        "peliculas.sort_values(\"nota_promedio\", ascending = False).head(N)"
      ],
      "execution_count": 13,
      "outputs": [
        {
          "output_type": "execute_result",
          "data": {
            "text/html": [
              "<div>\n",
              "<style scoped>\n",
              "    .dataframe tbody tr th:only-of-type {\n",
              "        vertical-align: middle;\n",
              "    }\n",
              "\n",
              "    .dataframe tbody tr th {\n",
              "        vertical-align: top;\n",
              "    }\n",
              "\n",
              "    .dataframe thead th {\n",
              "        text-align: right;\n",
              "    }\n",
              "</style>\n",
              "<table border=\"1\" class=\"dataframe\">\n",
              "  <thead>\n",
              "    <tr style=\"text-align: right;\">\n",
              "      <th></th>\n",
              "      <th>titulo</th>\n",
              "      <th>generos</th>\n",
              "      <th>total_de_votos</th>\n",
              "      <th>nota_promedio</th>\n",
              "    </tr>\n",
              "    <tr>\n",
              "      <th>peliculaId</th>\n",
              "      <th></th>\n",
              "      <th></th>\n",
              "      <th></th>\n",
              "      <th></th>\n",
              "    </tr>\n",
              "  </thead>\n",
              "  <tbody>\n",
              "    <tr>\n",
              "      <th>88448</th>\n",
              "      <td>Paper Birds (Pájaros de papel) (2010)</td>\n",
              "      <td>Comedy|Drama</td>\n",
              "      <td>1.0</td>\n",
              "      <td>5.0</td>\n",
              "    </tr>\n",
              "    <tr>\n",
              "      <th>100556</th>\n",
              "      <td>Act of Killing, The (2012)</td>\n",
              "      <td>Documentary</td>\n",
              "      <td>1.0</td>\n",
              "      <td>5.0</td>\n",
              "    </tr>\n",
              "    <tr>\n",
              "      <th>143031</th>\n",
              "      <td>Jump In! (2007)</td>\n",
              "      <td>Comedy|Drama|Romance</td>\n",
              "      <td>1.0</td>\n",
              "      <td>5.0</td>\n",
              "    </tr>\n",
              "    <tr>\n",
              "      <th>143511</th>\n",
              "      <td>Human (2015)</td>\n",
              "      <td>Documentary</td>\n",
              "      <td>1.0</td>\n",
              "      <td>5.0</td>\n",
              "    </tr>\n",
              "    <tr>\n",
              "      <th>143559</th>\n",
              "      <td>L.A. Slasher (2015)</td>\n",
              "      <td>Comedy|Crime|Fantasy</td>\n",
              "      <td>1.0</td>\n",
              "      <td>5.0</td>\n",
              "    </tr>\n",
              "    <tr>\n",
              "      <th>6201</th>\n",
              "      <td>Lady Jane (1986)</td>\n",
              "      <td>Drama|Romance</td>\n",
              "      <td>1.0</td>\n",
              "      <td>5.0</td>\n",
              "    </tr>\n",
              "    <tr>\n",
              "      <th>102217</th>\n",
              "      <td>Bill Hicks: Revelations (1993)</td>\n",
              "      <td>Comedy</td>\n",
              "      <td>1.0</td>\n",
              "      <td>5.0</td>\n",
              "    </tr>\n",
              "    <tr>\n",
              "      <th>102084</th>\n",
              "      <td>Justice League: Doom (2012)</td>\n",
              "      <td>Action|Animation|Fantasy</td>\n",
              "      <td>1.0</td>\n",
              "      <td>5.0</td>\n",
              "    </tr>\n",
              "    <tr>\n",
              "      <th>6192</th>\n",
              "      <td>Open Hearts (Elsker dig for evigt) (2002)</td>\n",
              "      <td>Romance</td>\n",
              "      <td>1.0</td>\n",
              "      <td>5.0</td>\n",
              "    </tr>\n",
              "    <tr>\n",
              "      <th>145994</th>\n",
              "      <td>Formula of Love (1984)</td>\n",
              "      <td>Comedy</td>\n",
              "      <td>1.0</td>\n",
              "      <td>5.0</td>\n",
              "    </tr>\n",
              "  </tbody>\n",
              "</table>\n",
              "</div>"
            ],
            "text/plain": [
              "                                               titulo  ... nota_promedio\n",
              "peliculaId                                             ...              \n",
              "88448           Paper Birds (Pájaros de papel) (2010)  ...           5.0\n",
              "100556                     Act of Killing, The (2012)  ...           5.0\n",
              "143031                                Jump In! (2007)  ...           5.0\n",
              "143511                                   Human (2015)  ...           5.0\n",
              "143559                            L.A. Slasher (2015)  ...           5.0\n",
              "6201                                 Lady Jane (1986)  ...           5.0\n",
              "102217                 Bill Hicks: Revelations (1993)  ...           5.0\n",
              "102084                   Justice League: Doom (2012)   ...           5.0\n",
              "6192        Open Hearts (Elsker dig for evigt) (2002)  ...           5.0\n",
              "145994                         Formula of Love (1984)  ...           5.0\n",
              "\n",
              "[10 rows x 4 columns]"
            ]
          },
          "metadata": {
            "tags": []
          },
          "execution_count": 13
        }
      ]
    },
    {
      "cell_type": "markdown",
      "metadata": {
        "id": "64AnzvJSxeTA"
      },
      "source": [
        "Lo logramos, ahora tenemos una lista para recomendar segun la nota promedio...\r\n",
        "\r\n",
        "Espera un momento, ¿esta recomendacion de verdad estara bien?, es decir tienen buenas calificaciones, pero solo una persona las ha visto. Tal vez, sea buena idea el decirle al recomendador que solo nos recomiende por calificacion a las que tengan mas de 100 votos."
      ]
    },
    {
      "cell_type": "code",
      "metadata": {
        "id": "y7s-knnTvHnW"
      },
      "source": [
        "# primero le decimos que solo tome las filas que cumplen que en la columna \r\n",
        "# total_de_votos se tengan mas de los votos necesarios para hacer valida la \r\n",
        "# nota_promedio, luego pedimos que las ordene y luego que nos muestre las N primeras\r\n",
        "N = 10 # se puede cambiar\r\n",
        "votos_necesarios = 100 # son los votos con los que decidimos que una nota promedio es util\r\n",
        "peliculas[peliculas[\"total_de_votos\"]>votos_necesarios].sort_values(\"nota_promedio\", ascending = False).head(N)\r\n",
        "peliculas.to_csv(\"/content/peliculas.csv\")"
      ],
      "execution_count": 15,
      "outputs": []
    },
    {
      "cell_type": "markdown",
      "metadata": {
        "id": "SwcH2QNH0GQB"
      },
      "source": [
        "Ahora si, tenemos una lista con recomendaciones por calificaciones que nos da resultados mas confiables."
      ]
    },
    {
      "cell_type": "markdown",
      "metadata": {
        "id": "KH1pHy33aGXd"
      },
      "source": [
        "# 3era Heuristica de Recomendacion: Usuarios similares\r\n",
        "Primero veamos un ejemplo, tenemos tres usuarios y queremos recomendarle una pelicula a Sergio. A la vista se nos ocurre que tal vez Padre Gallo seria una buena recomendacion, ya que las calificaciones de Naomi para El Padrino y Pretty Woman son las mas parecidas a las de Sergio, y asumimos entonces que tienen gustos parecidos.\r\n",
        "\r\n",
        "<img src=\"https://raw.githubusercontent.com/emmt1998/ML-para-Negocios/main/workshop_04/UsuariosPeliculas.png\" height=\"200\">\r\n",
        "\r\n",
        "Pero a una maquina no se le puede decir que decida al ojo, asi que tenemos que formalizar el proceso que realizamos intituivamente.\r\n",
        "\r\n",
        "Para esto podemos decir que el usuario que este mas cerca de otro, es similar.\r\n",
        "\r\n",
        "¿Como sabemos la distancia entre usuarios? Pues podemos ver las calificaciones de peliculas como un espacio vectorial, asi en el `eje X` tenemos las notas de Pretty Woman y en el `eje Y` las del El Padrino.\r\n"
      ]
    },
    {
      "cell_type": "code",
      "metadata": {
        "colab": {
          "base_uri": "https://localhost:8080/",
          "height": 297
        },
        "id": "FvzFxNJmErFO",
        "outputId": "f841ac07-6094-499c-ef66-56c52619ed1a"
      },
      "source": [
        "import matplotlib.pyplot as plt\r\n",
        "plt.plot(10, 8, \"go\")\r\n",
        "plt.plot(9, 7, \"yo\")\r\n",
        "plt.plot(8, 3, \"ro\")\r\n",
        "plt.legend([\"Sergio\", \"Naomi\",\"Favio\"])\r\n",
        "plt.title(\"Calcular la distancia entre dos o más usuarios\", fontsize='16')\r\n",
        "plt.xlabel(\"Pretty Woman\")\r\n",
        "plt.ylabel(\"El Padrino\")\r\n",
        "plt.show()"
      ],
      "execution_count": 18,
      "outputs": [
        {
          "output_type": "display_data",
          "data": {
            "image/png": "[encoded data removed]",
            "text/plain": [
              "<Figure size 432x288 with 1 Axes>"
            ]
          },
          "metadata": {
            "tags": [],
            "needs_background": "light"
          }
        }
      ]
    },
    {
      "cell_type": "markdown",
      "metadata": {
        "id": "CBq4Aj_F0sVI"
      },
      "source": [
        "Si nos fijamos, podemos formar unos triangulos rectangulos, en los cuales la distancia entre los puntos es la hiptenusa."
      ]
    },
    {
      "cell_type": "code",
      "metadata": {
        "colab": {
          "base_uri": "https://localhost:8080/",
          "height": 297
        },
        "id": "rY_M1YC9z9DO",
        "outputId": "f7c7ddb0-0eb7-488a-d6f6-635d10b26898"
      },
      "source": [
        "plt.plot(10, 8, \"go\")\r\n",
        "plt.plot(9, 7, \"yo\")\r\n",
        "plt.plot(8, 3, \"ro\")\r\n",
        "plt.legend([\"Sergio\", \"Naomi\",\"Favio\"])\r\n",
        "plt.title(\"Calcular la distancia entre dos o más usuarios\", fontsize='16')\r\n",
        "plt.xlabel(\"Pretty Woman\")\r\n",
        "plt.ylabel(\"El Padrino\")\r\n",
        "\r\n",
        "plt.plot([9, 10], [7, 8], color=\"y\", linestyle=\"-\")\r\n",
        "plt.plot([9, 10], [7, 7], color=\"y\", linestyle=\"dotted\")\r\n",
        "plt.plot([10, 10], [7, 8], color=\"y\", linestyle=\"dotted\")\r\n",
        "\r\n",
        "plt.plot([8, 10], [3, 8], color=\"r\", linestyle=\"-\")\r\n",
        "plt.plot([8, 10], [3, 3], color=\"r\", linestyle=\"dotted\")\r\n",
        "plt.plot([10, 10],[3, 8], color=\"r\", linestyle=\"dotted\")\r\n",
        "plt.show()"
      ],
      "execution_count": 26,
      "outputs": [
        {
          "output_type": "display_data",
          "data": {
            "image/png": "[encoded data removed]",
            "text/plain": [
              "<Figure size 432x288 with 1 Axes>"
            ]
          },
          "metadata": {
            "tags": [],
            "needs_background": "light"
          }
        }
      ]
    },
    {
      "cell_type": "markdown",
      "metadata": {
        "id": "o_py-ZbxgVlR"
      },
      "source": [
        "Ahora podemos usar pitagoras, para calcular la distancia.\r\n",
        "\r\n",
        "<img src=\"https://raw.githubusercontent.com/emmt1998/ML-para-Negocios/main/workshop_04/distanciaEuclidiana.jpg\" height=\"200\">\r\n",
        "\r\n",
        "Es decir la distancia es:\r\n",
        "$$c = \\sqrt[2]{(a^{2} + b^{2})}$$\r\n",
        "\r\n",
        "A esta formula tambien se le conoce como norma euclidiana o distancia euclidiana.\r\n",
        "\r\n",
        "Notamos del grafico de los ratings que \r\n",
        "$$a = a(Usuario1,Usuario2) = Usuario1[rPrettyWoman] - Usuario2[rPrettyWoman]$$\r\n",
        "\r\n",
        "Con esto\r\n",
        "$$a(Sergio, Naomi) = 10-9 = 1$$\r\n",
        "\r\n",
        "$$a(Sergio, Favio) = 10-8 = 2$$\r\n",
        "\r\n",
        "Lo mismo para $b$\r\n",
        "$$b = b(Usuario1, Usuario2) = Usuario1[rElPadrino] - Usuario2[rElPadrino]$$\r\n",
        "\r\n",
        "Con esto\r\n",
        "$$b(Sergio, Naomi) = 8-7 = 1$$\r\n",
        "\r\n",
        "$$b(Sergio, Favio) = 8-3 = 5$$\r\n",
        "\r\n",
        "Seguimos con $c$\r\n",
        "$$c = distEucli(Usuario1, Usuario2) = \\sqrt[2]{(a(Usuario1,Usuario2)^{2} + b(Usuario1, Usuario2)^{2})}$$\r\n",
        "\r\n",
        "Con esto ya podemos calcular las distancias\r\n",
        "$$distEucli(Sergio, Naomi) = \\sqrt[2]{(a(Sergio,Naomi)^{2} + b(Sergio, Naomi)^{2})} = \\sqrt[2]{(1^{2} + 1^{2})}= \\sqrt[2]{2} \\approx 1.41$$\r\n",
        "\r\n",
        "$$distEucli(Sergio, Favio) = \\sqrt[2]{(a(Sergio,Favio)^{2} + b(Sergio, Favio)^{2})} = \\sqrt[2]{(2^{2} + 5^{2})}= \\sqrt[2]{29} \\approx 5.38$$\r\n",
        "\r\n",
        "Ahora implementemoslo usando la libreria `numpy`."
      ]
    },
    {
      "cell_type": "code",
      "metadata": {
        "colab": {
          "base_uri": "https://localhost:8080/"
        },
        "id": "gx-HxB3mKH34",
        "outputId": "29f8299b-ae9e-4537-d066-307b6d1ab7d6"
      },
      "source": [
        "import numpy as np\r\n",
        "# definimos las preferencias de cada usuario\r\n",
        "# como np.array([rPrettyWoman, rElPadrino])\r\n",
        "sergio = np.array([10, 8])\r\n",
        "naomi = np.array([9, 7])\r\n",
        "favio = np.array([8, 3])\r\n",
        "\r\n",
        "# notamos que al restarlos nos retorna un array de la forma [a, b]\r\n",
        "restaSN = sergio - naomi \r\n",
        "restaSF = sergio - favio\r\n",
        "print(\"Sergio - Naomi:\",restaSN, \"\\nSergio - Favio:\",restaSF)"
      ],
      "execution_count": 30,
      "outputs": [
        {
          "output_type": "stream",
          "text": [
            "Sergio - Naomi: [1 1] \n",
            "Sergio - Favio: [2 5]\n"
          ],
          "name": "stdout"
        }
      ]
    },
    {
      "cell_type": "code",
      "metadata": {
        "colab": {
          "base_uri": "https://localhost:8080/"
        },
        "id": "ZUTietd0N6qo",
        "outputId": "a7269a62-ffd7-4af6-c3c6-ab90199685e0"
      },
      "source": [
        "# Con esto podemos definir la siguiente funcion\r\n",
        "def nuestroPitagoras(Usuario1, Usuario2):\r\n",
        "  (a, b) = Usuario1 - Usuario2\r\n",
        "  return np.sqrt(a**2 + b**2)\r\n",
        "\r\n",
        "# Como no somos los primeros en inventar la rueda, notamos que\r\n",
        "# la libreria numpy tiene una funcion que calcula la \r\n",
        "# norma euclidiana de un vector\r\n",
        "def numpyPitagoras(Usuario1,Usuario2):\r\n",
        "  Vector = Usuario1 - Usuario2\r\n",
        "  return np.linalg.norm(Vector)\r\n",
        "\r\n",
        "print(\"nuestroPitagoras: \",nuestroPitagoras(sergio, naomi))\r\n",
        "print(\"numpyPitagoras:   \",numpyPitagoras(sergio, naomi))"
      ],
      "execution_count": 39,
      "outputs": [
        {
          "output_type": "stream",
          "text": [
            "nuestroPitagoras:  1.4142135623730951\n",
            "numpyPitagoras:    1.4142135623730951\n"
          ],
          "name": "stdout"
        }
      ]
    },
    {
      "cell_type": "markdown",
      "metadata": {
        "id": "KpZiPEH9-_tT"
      },
      "source": [
        "Notamos que alcanzamos el mismo resultado, pero nuestra implementacion tirara error si es que se trata de hacer con casos de mas de dos ratings, por lo que es recomendable usar la de `numpy`."
      ]
    },
    {
      "cell_type": "code",
      "metadata": {
        "id": "tM-e7GwrPuvw",
        "colab": {
          "base_uri": "https://localhost:8080/"
        },
        "outputId": "d138b808-8ff7-41b8-92ff-3cc683c90757"
      },
      "source": [
        "# Definimos la funcion distEucli que nos servira en casos multivariables\r\n",
        "def distEucli(Usuario1, Usuario2):\r\n",
        "  return np.linalg.norm(Usuario1 - Usuario2)\r\n",
        "\r\n",
        "print('distancia entre Sergio y Naomi= ', distEucli(sergio,naomi))\r\n",
        "print('distancia entre Sergio y Favio= ', distEucli(sergio,favio))"
      ],
      "execution_count": 41,
      "outputs": [
        {
          "output_type": "stream",
          "text": [
            "distancia entre Sergio y Naomi=  1.4142135623730951\n",
            "distancia entre Sergio y Favio=  5.385164807134504\n"
          ],
          "name": "stdout"
        }
      ]
    },
    {
      "cell_type": "markdown",
      "metadata": {
        "id": "4HHkV80rFDWE"
      },
      "source": [
        "Ya con saber la distancia podemos diseñar un recomendador simple, el cual nos retorne la pelicula a recomendar."
      ]
    },
    {
      "cell_type": "code",
      "metadata": {
        "colab": {
          "base_uri": "https://localhost:8080/"
        },
        "id": "BxXFNh-3BmGC",
        "outputId": "d437b936-c361-468b-d9db-0dfa0221bb29"
      },
      "source": [
        "# definimos la recomendacion en el caso de que sean el mas cercano a Sergio\r\n",
        "naomiRec = \"Padre Gallo\"\r\n",
        "favioRec = \"Martin Rivas\"\r\n",
        "\r\n",
        "# definimos las preferencias de cada usuario\r\n",
        "# como np.array([rPrettyWoman, rElPadrino])\r\n",
        "sergio = np.array([10, 8])\r\n",
        "naomi = np.array([9, 7])\r\n",
        "favio = np.array([8, 3])\r\n",
        "\r\n",
        "acomparar = [naomi, favio]\r\n",
        "distMin = 0\r\n",
        "for i in range(len(acomparar)):\r\n",
        "  d = distEucli(sergio,acomparar[i])\r\n",
        "  if distMin == 0:\r\n",
        "    distMin = d\r\n",
        "    n = 0\r\n",
        "  if distMin>d:\r\n",
        "    n = i\r\n",
        "\r\n",
        "print(\"Una Recomendacion para Sergio seria ver:\")\r\n",
        "if n == 0: print(naomiRec)\r\n",
        "if n == 1: print(favioRec)"
      ],
      "execution_count": 53,
      "outputs": [
        {
          "output_type": "stream",
          "text": [
            "Una Recomendacion para Sergio seria ver:\n",
            "Padre Gallo\n"
          ],
          "name": "stdout"
        }
      ]
    },
    {
      "cell_type": "markdown",
      "metadata": {
        "id": "dPh36doVA2XG"
      },
      "source": [
        "Antes de seguir veamos un ejemplo de la distancia euclidiana con 4 peliculas, esto haria un espacio vectorial de 4 dimensiones, imposible de visualizar, pero en el cual la distancia euclidiana aun funciona."
      ]
    },
    {
      "cell_type": "code",
      "metadata": {
        "colab": {
          "base_uri": "https://localhost:8080/"
        },
        "id": "DEjhdb6-PxrD",
        "outputId": "12da938b-41d9-44d4-ad58-ba4584f9ff9e"
      },
      "source": [
        "# Definimos a los usuarios y sus ratings para cada pelicula\r\n",
        "usuarioA = np.array([10,8,9,1])\r\n",
        "usuarioB = np.array([5,4,7,10])\r\n",
        "usuarioC = np.array([7,5,7,9])\r\n",
        "\r\n",
        "# Vemos sus distancias\r\n",
        "print('distancia entre A y B= ', distEucli(usuarioA,usuarioB))\r\n",
        "print('distancia entre A y C= ', distEucli(usuarioA,usuarioC))"
      ],
      "execution_count": 45,
      "outputs": [
        {
          "output_type": "stream",
          "text": [
            "distancia entre A y B=  11.224972160321824\n",
            "distancia entre A y C=  9.273618495495704\n"
          ],
          "name": "stdout"
        }
      ]
    },
    {
      "cell_type": "markdown",
      "metadata": {
        "id": "y1RkhaMRBYAI"
      },
      "source": [
        "\r\n",
        "\r\n",
        "#> Sin redactar\r\n",
        "\r\n"
      ]
    },
    {
      "cell_type": "code",
      "metadata": {
        "colab": {
          "base_uri": "https://localhost:8080/"
        },
        "id": "cXBIp1YpAfDT",
        "outputId": "a6ff9e6d-d43b-4f51-e3c5-884516bd9ab6"
      },
      "source": [
        "df = notas.copy()\r\n",
        "df.pop(\"momento\")\r\n",
        "df = df.query(\"usuarioId==1\")\r\n",
        "todas = peliculas.index\r\n",
        "vistas = np.array([df[\"peliculaId\"].values, df[\"nota\"].values])\r\n",
        "a, b = vistas\r\n",
        "a"
      ],
      "execution_count": 79,
      "outputs": [
        {
          "output_type": "execute_result",
          "data": {
            "text/plain": [
              "array([1.000e+00, 3.000e+00, 6.000e+00, 4.700e+01, 5.000e+01, 7.000e+01,\n",
              "       1.010e+02, 1.100e+02, 1.510e+02, 1.570e+02, 1.630e+02, 2.160e+02,\n",
              "       2.230e+02, 2.310e+02, 2.350e+02, 2.600e+02, 2.960e+02, 3.160e+02,\n",
              "       3.330e+02, 3.490e+02, 3.560e+02, 3.620e+02, 3.670e+02, 4.230e+02,\n",
              "       4.410e+02, 4.570e+02, 4.800e+02, 5.000e+02, 5.270e+02, 5.430e+02,\n",
              "       5.520e+02, 5.530e+02, 5.900e+02, 5.920e+02, 5.930e+02, 5.960e+02,\n",
              "       6.080e+02, 6.480e+02, 6.610e+02, 6.730e+02, 7.330e+02, 7.360e+02,\n",
              "       7.800e+02, 8.040e+02, 9.190e+02, 9.230e+02, 9.400e+02, 9.430e+02,\n",
              "       9.540e+02, 1.009e+03, 1.023e+03, 1.024e+03, 1.025e+03, 1.029e+03,\n",
              "       1.030e+03, 1.031e+03, 1.032e+03, 1.042e+03, 1.049e+03, 1.060e+03,\n",
              "       1.073e+03, 1.080e+03, 1.089e+03, 1.090e+03, 1.092e+03, 1.097e+03,\n",
              "       1.127e+03, 1.136e+03, 1.196e+03, 1.197e+03, 1.198e+03, 1.206e+03,\n",
              "       1.208e+03, 1.210e+03, 1.213e+03, 1.214e+03, 1.219e+03, 1.220e+03,\n",
              "       1.222e+03, 1.224e+03, 1.226e+03, 1.240e+03, 1.256e+03, 1.258e+03,\n",
              "       1.265e+03, 1.270e+03, 1.275e+03, 1.278e+03, 1.282e+03, 1.291e+03,\n",
              "       1.298e+03, 1.348e+03, 1.377e+03, 1.396e+03, 1.408e+03, 1.445e+03,\n",
              "       1.473e+03, 1.500e+03, 1.517e+03, 1.552e+03, 1.573e+03, 1.580e+03,\n",
              "       1.587e+03, 1.617e+03, 1.620e+03, 1.625e+03, 1.644e+03, 1.676e+03,\n",
              "       1.732e+03, 1.777e+03, 1.793e+03, 1.804e+03, 1.805e+03, 1.920e+03,\n",
              "       1.927e+03, 1.954e+03, 1.967e+03, 2.000e+03, 2.005e+03, 2.012e+03,\n",
              "       2.018e+03, 2.028e+03, 2.033e+03, 2.046e+03, 2.048e+03, 2.054e+03,\n",
              "       2.058e+03, 2.078e+03, 2.090e+03, 2.093e+03, 2.094e+03, 2.096e+03,\n",
              "       2.099e+03, 2.105e+03, 2.115e+03, 2.116e+03, 2.137e+03, 2.139e+03,\n",
              "       2.141e+03, 2.143e+03, 2.161e+03, 2.174e+03, 2.193e+03, 2.253e+03,\n",
              "       2.268e+03, 2.273e+03, 2.291e+03, 2.329e+03, 2.338e+03, 2.353e+03,\n",
              "       2.366e+03, 2.387e+03, 2.389e+03, 2.395e+03, 2.406e+03, 2.414e+03,\n",
              "       2.427e+03, 2.450e+03, 2.459e+03, 2.470e+03, 2.478e+03, 2.492e+03,\n",
              "       2.502e+03, 2.528e+03, 2.529e+03, 2.542e+03, 2.571e+03, 2.580e+03,\n",
              "       2.596e+03, 2.616e+03, 2.617e+03, 2.628e+03, 2.640e+03, 2.641e+03,\n",
              "       2.644e+03, 2.648e+03, 2.654e+03, 2.657e+03, 2.692e+03, 2.700e+03,\n",
              "       2.716e+03, 2.761e+03, 2.797e+03, 2.826e+03, 2.858e+03, 2.872e+03,\n",
              "       2.899e+03, 2.916e+03, 2.944e+03, 2.947e+03, 2.948e+03, 2.949e+03,\n",
              "       2.959e+03, 2.985e+03, 2.987e+03, 2.991e+03, 2.993e+03, 2.997e+03,\n",
              "       3.033e+03, 3.034e+03, 3.052e+03, 3.053e+03, 3.062e+03, 3.147e+03,\n",
              "       3.168e+03, 3.176e+03, 3.243e+03, 3.247e+03, 3.253e+03, 3.273e+03,\n",
              "       3.386e+03, 3.439e+03, 3.440e+03, 3.441e+03, 3.448e+03, 3.450e+03,\n",
              "       3.479e+03, 3.489e+03, 3.527e+03, 3.578e+03, 3.617e+03, 3.639e+03,\n",
              "       3.671e+03, 3.702e+03, 3.703e+03, 3.729e+03, 3.740e+03, 3.744e+03,\n",
              "       3.793e+03, 3.809e+03, 4.006e+03, 5.060e+03])"
            ]
          },
          "metadata": {
            "tags": []
          },
          "execution_count": 79
        }
      ]
    },
    {
      "cell_type": "code",
      "metadata": {
        "colab": {
          "base_uri": "https://localhost:8080/"
        },
        "id": "mqbXKEnxOgBY",
        "outputId": "1fa65c30-30b9-4e3c-a664-e3d941832b53"
      },
      "source": [
        "todas = np.array(todas)\r\n",
        "todas"
      ],
      "execution_count": 77,
      "outputs": [
        {
          "output_type": "execute_result",
          "data": {
            "text/plain": [
              "array([     1,      2,      3, ..., 193585, 193587, 193609])"
            ]
          },
          "metadata": {
            "tags": []
          },
          "execution_count": 77
        }
      ]
    },
    {
      "cell_type": "code",
      "metadata": {
        "colab": {
          "base_uri": "https://localhost:8080/"
        },
        "id": "mTGbWoPLRCPM",
        "outputId": "d4c51cbf-c4c1-4556-b24c-9c26667c6016"
      },
      "source": [
        "big = []\r\n",
        "n = 0\r\n",
        "for id in todas:\r\n",
        "  n+=1\r\n",
        "  check = False\r\n",
        "  for i in range(vistas.shape[1]):\r\n",
        "    n+=1\r\n",
        "    if id == vistas[0,i]:\r\n",
        "      big.append(vistas[1,i])\r\n",
        "      check = True\r\n",
        "      break\r\n",
        "  if not check:big.append(0)\r\n",
        "big = np.array(big)\r\n",
        "print(n)"
      ],
      "execution_count": 97,
      "outputs": [
        {
          "output_type": "stream",
          "text": [
            "2243090\n"
          ],
          "name": "stdout"
        }
      ]
    },
    {
      "cell_type": "code",
      "metadata": {
        "id": "3vEjYjaqS_UV"
      },
      "source": [
        ""
      ],
      "execution_count": null,
      "outputs": []
    }
  ]
}